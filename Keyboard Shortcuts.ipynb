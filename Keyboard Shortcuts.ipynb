{
 "cells": [
  {
   "cell_type": "markdown",
   "metadata": {},
   "source": [
    "## USEFUL KEYBOARD SHORTCUTS\n",
    "\n",
    "To enter **COMMAND MODE** - press ESC\n",
    "\n",
    "To enter **CODE MODE** - press esc + y or (simply press enter when in command mode if the cell is not a Markdown)\n",
    "\n",
    "To enter **MARKDOWN MODE** - press 'm' when in Command mode\n",
    "\n",
    "To interrupt the kernel - double press 'i'\n",
    " \n",
    "To add a cell - press Alt + Enter (When in code mode)\n",
    "\n",
    "To add a cell - press 'a' (When in command mode)\n",
    "\n",
    "To **DELETE** a cell - double press 'd' (When in command mode)\n",
    "\n",
    "To **RUN** a cell - press SHIFT + enter (When in code mode)\n",
    "\n",
    "\n",
    "To move to the First cell - press CTRL + UP\n",
    "\n",
    "To move to the last cell - press CTRL + DOWN"
   ]
  }
 ],
 "metadata": {
  "kernelspec": {
   "display_name": "Python 3",
   "language": "python",
   "name": "python3"
  },
  "language_info": {
   "codemirror_mode": {
    "name": "ipython",
    "version": 3
   },
   "file_extension": ".py",
   "mimetype": "text/x-python",
   "name": "python",
   "nbconvert_exporter": "python",
   "pygments_lexer": "ipython3",
   "version": "3.6.10"
  }
 },
 "nbformat": 4,
 "nbformat_minor": 4
}
